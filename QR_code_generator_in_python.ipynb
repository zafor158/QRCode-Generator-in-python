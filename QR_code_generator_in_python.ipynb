{
  "nbformat": 4,
  "nbformat_minor": 0,
  "metadata": {
    "colab": {
      "provenance": [],
      "authorship_tag": "ABX9TyMH2CZp50NZF/ACRpO7eQxm",
      "include_colab_link": true
    },
    "kernelspec": {
      "name": "python3",
      "display_name": "Python 3"
    },
    "language_info": {
      "name": "python"
    }
  },
  "cells": [
    {
      "cell_type": "markdown",
      "metadata": {
        "id": "view-in-github",
        "colab_type": "text"
      },
      "source": [
        "<a href=\"https://colab.research.google.com/github/zafor158/QRCode-Generator-in-python/blob/main/QR_code_generator_in_python.ipynb\" target=\"_parent\"><img src=\"https://colab.research.google.com/assets/colab-badge.svg\" alt=\"Open In Colab\"/></a>"
      ]
    },
    {
      "cell_type": "markdown",
      "source": [
        "## My colab Qrcode"
      ],
      "metadata": {
        "id": "rDmy4fZ3nFEO"
      }
    },
    {
      "cell_type": "code",
      "execution_count": 23,
      "metadata": {
        "colab": {
          "base_uri": "https://localhost:8080/"
        },
        "id": "kxnKSfMoigcb",
        "outputId": "f7a65de0-818e-4aa9-ef95-7358d5e71613"
      },
      "outputs": [
        {
          "output_type": "stream",
          "name": "stdout",
          "text": [
            "Requirement already satisfied: qrcode[pil] in /usr/local/lib/python3.10/dist-packages (7.4.2)\n",
            "Requirement already satisfied: typing-extensions in /usr/local/lib/python3.10/dist-packages (from qrcode[pil]) (4.5.0)\n",
            "Requirement already satisfied: pypng in /usr/local/lib/python3.10/dist-packages (from qrcode[pil]) (0.20220715.0)\n",
            "Requirement already satisfied: pillow>=9.1.0 in /usr/local/lib/python3.10/dist-packages (from qrcode[pil]) (9.4.0)\n"
          ]
        }
      ],
      "source": [
        "pip install qrcode[pil]"
      ]
    },
    {
      "cell_type": "code",
      "source": [
        "import qrcode as qr\n",
        "img=qr.make(\"https://colab.research.google.com/drive/1juqk-OanyYERr5hop9yld-JrbI8xK-vY#scrollTo=1egDp7E_j2SQ\")\n",
        "img.save(\"Google colab.png\")\n",
        "img"
      ],
      "metadata": {
        "colab": {
          "base_uri": "https://localhost:8080/",
          "height": 507
        },
        "id": "1egDp7E_j2SQ",
        "outputId": "24ad0823-57be-4b73-8079-64fb2cff84cc"
      },
      "execution_count": null,
      "outputs": [
        {
          "output_type": "execute_result",
          "data": {
            "text/plain": [
              "<qrcode.image.pil.PilImage at 0x7ae5375b7dc0>"
            ],
            "image/png": "[encoded data removed]"
          },
          "metadata": {},
          "execution_count": 7
        }
      ]
    },
    {
      "cell_type": "markdown",
      "source": [
        "## My facebook Qrcode"
      ],
      "metadata": {
        "id": "jXbux-cxlNmX"
      }
    },
    {
      "cell_type": "code",
      "source": [
        "img=qr.make(\"https://www.facebook.com/\")\n",
        "img.save(\"facebook qr.png\")\n",
        "img"
      ],
      "metadata": {
        "colab": {
          "base_uri": "https://localhost:8080/",
          "height": 347
        },
        "id": "FkbItxsLlJRM",
        "outputId": "c7f19f5d-2308-4e87-d66c-e9b3884fb540"
      },
      "execution_count": null,
      "outputs": [
        {
          "output_type": "execute_result",
          "data": {
            "text/plain": [
              "<qrcode.image.pil.PilImage at 0x7ae5375b7670>"
            ],
            "image/png": "[encoded data removed]"
          },
          "metadata": {},
          "execution_count": 9
        }
      ]
    },
    {
      "cell_type": "markdown",
      "source": [
        "## Team Variable Qrcode"
      ],
      "metadata": {
        "id": "LgqAqnlEnPEg"
      }
    },
    {
      "cell_type": "code",
      "source": [
        "\n",
        "img=qr.make(\"https://www.facebook.com/profile.php?id=100091798838882\")\n",
        "img.save(\"teamvariable7.4.png\")\n",
        "img"
      ],
      "metadata": {
        "colab": {
          "base_uri": "https://localhost:8080/",
          "height": 427
        },
        "id": "PeK_BVgOmTfi",
        "outputId": "67bfa36d-d0c1-4e4f-ded4-9dcfc05ac93d"
      },
      "execution_count": null,
      "outputs": [
        {
          "output_type": "execute_result",
          "data": {
            "text/plain": [
              "<qrcode.image.pil.PilImage at 0x7ae568ad2c50>"
            ],
            "image/png": "[encoded data removed]"
          },
          "metadata": {},
          "execution_count": 10
        }
      ]
    },
    {
      "cell_type": "markdown",
      "source": [
        "## Electronics club QR code"
      ],
      "metadata": {
        "id": "pVghNoxnndS4"
      }
    },
    {
      "cell_type": "code",
      "source": [
        "\n",
        "img=qr.make(\"https://www.facebook.com/EWUEC\")\n",
        "img.save(\"EWUEC_QRCODE.png\")\n",
        "img\n"
      ],
      "metadata": {
        "colab": {
          "base_uri": "https://localhost:8080/",
          "height": 387
        },
        "id": "8Ljgq0pDnj1q",
        "outputId": "c6b0e992-7ac5-468a-8e38-2cb801640623"
      },
      "execution_count": null,
      "outputs": [
        {
          "output_type": "execute_result",
          "data": {
            "text/plain": [
              "<qrcode.image.pil.PilImage at 0x7ae55bd4b1f0>"
            ],
            "image/png": "[encoded data removed]"
          },
          "metadata": {},
          "execution_count": 11
        }
      ]
    },
    {
      "cell_type": "markdown",
      "source": [
        "## Generate Your QRcode"
      ],
      "metadata": {
        "id": "8rkAiUP6tXtN"
      }
    },
    {
      "cell_type": "code",
      "source": [
        "from PIL import Image\n",
        "QR=qr.QRCode(version=1,error_correction=qr.constants.ERROR_CORRECT_H,box_size=10,border=4)\n",
        "QR.add_data(\"give your link here\")\n",
        "QR.make(fit=True)\n",
        "img=QR.make_image(fill_color=\"black\",back_colour=\"white\")\n",
        "img.save(\"Your code name.png\")\n",
        "img\n"
      ],
      "metadata": {
        "colab": {
          "base_uri": "https://localhost:8080/",
          "height": 587
        },
        "id": "uEtHqViypymm",
        "outputId": "10cccc4c-641e-4beb-feb2-364afb5dabad"
      },
      "execution_count": 22,
      "outputs": [
        {
          "output_type": "execute_result",
          "data": {
            "text/plain": [
              "<qrcode.image.pil.PilImage at 0x7ae537449a50>"
            ],
            "image/png": "[encoded data removed]"
          },
          "metadata": {},
          "execution_count": 22
        }
      ]
    },
    {
      "cell_type": "code",
      "source": [],
      "metadata": {
        "id": "ZCjajWZsqLQ6"
      },
      "execution_count": null,
      "outputs": []
    }
  ]
}